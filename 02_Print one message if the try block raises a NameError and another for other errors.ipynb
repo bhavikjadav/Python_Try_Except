{
 "cells": [
  {
   "cell_type": "markdown",
   "metadata": {},
   "source": [
    "# Print one message if the try block raises a NameError and another for other errors:"
   ]
  },
  {
   "cell_type": "code",
   "execution_count": 5,
   "metadata": {},
   "outputs": [
    {
     "name": "stdout",
     "output_type": "stream",
     "text": [
      "Kindly define 'x'.\n"
     ]
    }
   ],
   "source": [
    "# Printing variable x without declaring, then x itself a NameError.\n",
    "try:\n",
    "    print(x)\n",
    "except NameError:\n",
    "    print(\"Kindly define \\'x\\'.\")\n",
    "except Exception:\n",
    "    print(\"Something went wrong.\")"
   ]
  }
 ],
 "metadata": {
  "kernelspec": {
   "display_name": "Python 3",
   "language": "python",
   "name": "python3"
  },
  "language_info": {
   "codemirror_mode": {
    "name": "ipython",
    "version": 3
   },
   "file_extension": ".py",
   "mimetype": "text/x-python",
   "name": "python",
   "nbconvert_exporter": "python",
   "pygments_lexer": "ipython3",
   "version": "3.8.5"
  }
 },
 "nbformat": 4,
 "nbformat_minor": 4
}
