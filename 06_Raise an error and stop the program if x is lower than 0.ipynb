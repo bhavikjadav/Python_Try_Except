{
 "cells": [
  {
   "cell_type": "markdown",
   "metadata": {},
   "source": [
    "# Raise an error and stop the program if x is lower than 0:"
   ]
  },
  {
   "cell_type": "code",
   "execution_count": 7,
   "metadata": {},
   "outputs": [
    {
     "name": "stdout",
     "output_type": "stream",
     "text": [
      "Enter the value to check : 10\n",
      "x is greater than 0\n"
     ]
    }
   ],
   "source": [
    "x = int(input(\"Enter the value to check : \"))\n",
    "try:\n",
    "    if x < 0:\n",
    "        raise Exception\n",
    "except Exception:\n",
    "    print(\"Error : X is lower than 0\")\n",
    "else:\n",
    "    print(\"x is greater than 0\")"
   ]
  }
 ],
 "metadata": {
  "kernelspec": {
   "display_name": "Python 3",
   "language": "python",
   "name": "python3"
  },
  "language_info": {
   "codemirror_mode": {
    "name": "ipython",
    "version": 3
   },
   "file_extension": ".py",
   "mimetype": "text/x-python",
   "name": "python",
   "nbconvert_exporter": "python",
   "pygments_lexer": "ipython3",
   "version": "3.8.5"
  }
 },
 "nbformat": 4,
 "nbformat_minor": 4
}
