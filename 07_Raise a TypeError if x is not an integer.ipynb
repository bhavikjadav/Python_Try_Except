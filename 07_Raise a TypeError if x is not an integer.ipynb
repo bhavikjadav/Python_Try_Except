{
 "cells": [
  {
   "cell_type": "markdown",
   "metadata": {},
   "source": [
    "# Raise a TypeError if x is not an integer"
   ]
  },
  {
   "cell_type": "code",
   "execution_count": 4,
   "metadata": {},
   "outputs": [
    {
     "name": "stdout",
     "output_type": "stream",
     "text": [
      "Kindly check type of variable..Error!\n"
     ]
    }
   ],
   "source": [
    "x = \"hola\"\n",
    "# x = 1\n",
    "\n",
    "try:\n",
    "    if type(x) is not int:\n",
    "        raise TypeError\n",
    "except:\n",
    "    print(\"Kindly check type of variable..Error!\")"
   ]
  }
 ],
 "metadata": {
  "kernelspec": {
   "display_name": "Python 3",
   "language": "python",
   "name": "python3"
  },
  "language_info": {
   "codemirror_mode": {
    "name": "ipython",
    "version": 3
   },
   "file_extension": ".py",
   "mimetype": "text/x-python",
   "name": "python",
   "nbconvert_exporter": "python",
   "pygments_lexer": "ipython3",
   "version": "3.8.5"
  }
 },
 "nbformat": 4,
 "nbformat_minor": 4
}
